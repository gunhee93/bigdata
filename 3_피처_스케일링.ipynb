{
  "nbformat": 4,
  "nbformat_minor": 0,
  "metadata": {
    "colab": {
      "provenance": [],
      "include_colab_link": true
    },
    "kernelspec": {
      "name": "python3",
      "display_name": "Python 3"
    },
    "language_info": {
      "name": "python"
    }
  },
  "cells": [
    {
      "cell_type": "markdown",
      "metadata": {
        "id": "view-in-github",
        "colab_type": "text"
      },
      "source": [
        "<a href=\"https://colab.research.google.com/github/gunhee93/bigdata/blob/master/3_%ED%94%BC%EC%B2%98_%EC%8A%A4%EC%BC%80%EC%9D%BC%EB%A7%81.ipynb\" target=\"_parent\"><img src=\"https://colab.research.google.com/assets/colab-badge.svg\" alt=\"Open In Colab\"/></a>"
      ]
    },
    {
      "cell_type": "markdown",
      "metadata": {
        "id": "oR3Vricbze9Q"
      },
      "source": [
        "#피처 스케일링\n",
        "> 서로 다른 변수의 값 범위를 일정한 수준으로 맞추는 작업\n",
        "* 표준화(Standardization) : 데이터의 피처 각각의 평균이 0이고 분산이 1인 가우시안 정규 분포를 가진 값으로 변환하는 것\n",
        "* 정규화(Normalization) : 서로 다른 피처의 크기를 통일하기 위해 크기를 변환해 주는 것"
      ]
    },
    {
      "cell_type": "markdown",
      "metadata": {
        "id": "Cak21X7J0LGI"
      },
      "source": [
        "##1. StandardScaler\n"
      ]
    },
    {
      "cell_type": "markdown",
      "metadata": {
        "id": "XrzI1WIlqEO7"
      },
      "source": [
        "> StandardScaler는 표준화를 쉽게 해주는 클래스이다. 이 클래스를 사용하는 목적은 서포트 벡터 머신(Suppert Vector Machine), 선형 회귀(Linear Regression), 로지스틱 회귀(Logistic Regression) 알고리즘은 가우시안 분포를 가지고 있다는 가정하에 구현되었기 때문에 사전에 표준화를 적용하는 것은 예측 성능 향상에 중요한 요소가 될 수 있다."
      ]
    },
    {
      "cell_type": "markdown",
      "metadata": {
        "id": "1f5vscBVqGmA"
      },
      "source": [
        "##1.1 가우시안 분포"
      ]
    },
    {
      "cell_type": "markdown",
      "metadata": {
        "id": "JaaQlE3Ep_eY"
      },
      "source": [
        "> 정규분포(正規分布)라고도 한다. 연속 확률 분포의 하나로 평균과 표준편차라는 두 가지의 매개 변수를 통해 모양이 정해지며, 대개는 도수 분포 곡선이 평균점을 중심으로 좌우 대칭인 종 모양을 나타낸다. 독일의 수학자이자 물리학자, 천문학자였던 가우스(Karl Friedrich Gauss)가 측정 오차의 분포를 나타내는 데 대한 중요성을 강조하였기 때문에 이를 가우스 분포라고 한다."
      ]
    },
    {
      "cell_type": "markdown",
      "metadata": {
        "id": "A6z9MfG6qOOH"
      },
      "source": [
        "##1.2 붓꽃 데이터 평균 및 분산"
      ]
    },
    {
      "cell_type": "code",
      "source": [
        "from sklearn.datasets import load_iris\n",
        "import pandas as pd\n",
        "\n",
        "iris = load_iris()\n",
        "df_iris = pd.DataFrame(data=iris.data, columns=iris.feature_names)\n",
        "\n",
        "print(\"평균 : \", df_iris.mean())\n",
        "print(\"분산 : \", df_iris.var())"
      ],
      "metadata": {
        "id": "O1zlpoLwOAzp",
        "outputId": "43851895-ffab-4dde-fd26-8b1a8f72c8e1",
        "colab": {
          "base_uri": "https://localhost:8080/"
        }
      },
      "execution_count": 1,
      "outputs": [
        {
          "output_type": "stream",
          "name": "stdout",
          "text": [
            "평균 :  sepal length (cm)    5.843333\n",
            "sepal width (cm)     3.057333\n",
            "petal length (cm)    3.758000\n",
            "petal width (cm)     1.199333\n",
            "dtype: float64\n",
            "분산 :  sepal length (cm)    0.685694\n",
            "sepal width (cm)     0.189979\n",
            "petal length (cm)    3.116278\n",
            "petal width (cm)     0.581006\n",
            "dtype: float64\n"
          ]
        }
      ]
    },
    {
      "cell_type": "markdown",
      "metadata": {
        "id": "5goeUsOa3xLG"
      },
      "source": [
        "> 붓꽃 정보를 읽어 들여 평균과 분산을 확인해 보면 위와 같이 나타난다.\n",
        "\n",
        ">데이터의 크기가 크면 클수록 하드웨어 적인 자원(RAM, register, CPU 등)을 많이 사용해야 함으로 처리 속도가 느려지게 된다. 따라서 수치를 작게 표현하게 되면 이러한 문제를 해결할 수 있다."
      ]
    },
    {
      "cell_type": "markdown",
      "metadata": {
        "id": "dI_ECRTaqlYb"
      },
      "source": [
        "##1.3 StandardScaler를 이용한 표준화"
      ]
    },
    {
      "cell_type": "code",
      "source": [
        "from sklearn.preprocessing import StandardScaler\n",
        "\n",
        "scaler = StandardScaler()\n",
        "scaler.fit(df_iris)\n",
        "iris_scaled = scaler.transform(df_iris)\n",
        "iris_scaled[:5]"
      ],
      "metadata": {
        "id": "dxXksqb2PJD_",
        "outputId": "e9e4262c-a413-4dad-dc4d-8d69e78b5984",
        "colab": {
          "base_uri": "https://localhost:8080/"
        }
      },
      "execution_count": 2,
      "outputs": [
        {
          "output_type": "execute_result",
          "data": {
            "text/plain": [
              "array([[-0.90068117,  1.01900435, -1.34022653, -1.3154443 ],\n",
              "       [-1.14301691, -0.13197948, -1.34022653, -1.3154443 ],\n",
              "       [-1.38535265,  0.32841405, -1.39706395, -1.3154443 ],\n",
              "       [-1.50652052,  0.09821729, -1.2833891 , -1.3154443 ],\n",
              "       [-1.02184904,  1.24920112, -1.34022653, -1.3154443 ]])"
            ]
          },
          "metadata": {},
          "execution_count": 2
        }
      ]
    },
    {
      "cell_type": "markdown",
      "metadata": {
        "id": "DwnWqMTp4CcW"
      },
      "source": [
        ">이 정보를 표준화 하기 위해 StandardScaler 클래스를 로드하고 fit함수를 이용하여 크기를 조절한 후 transform함수를 이용하여 데이터를 표준화 한다."
      ]
    },
    {
      "cell_type": "markdown",
      "metadata": {
        "id": "WT-DMxpfqsW6"
      },
      "source": [
        "##1.4 표준화 데이터의 평균과 분산"
      ]
    },
    {
      "cell_type": "code",
      "source": [
        "df_iris_scaled = pd.DataFrame(data=iris_scaled, columns=iris.feature_names)\n",
        "\n",
        "print(\"평균 :\", df_iris_scaled.mean())\n",
        "print(\"분산 :\", df_iris_scaled.var())"
      ],
      "metadata": {
        "id": "EkCE76HnP4yR",
        "outputId": "f6a98578-a35e-479d-802f-0cefef3337bb",
        "colab": {
          "base_uri": "https://localhost:8080/"
        }
      },
      "execution_count": 3,
      "outputs": [
        {
          "output_type": "stream",
          "name": "stdout",
          "text": [
            "평균 : sepal length (cm)   -1.690315e-15\n",
            "sepal width (cm)    -1.842970e-15\n",
            "petal length (cm)   -1.698641e-15\n",
            "petal width (cm)    -1.409243e-15\n",
            "dtype: float64\n",
            "분산 : sepal length (cm)    1.006711\n",
            "sepal width (cm)     1.006711\n",
            "petal length (cm)    1.006711\n",
            "petal width (cm)     1.006711\n",
            "dtype: float64\n"
          ]
        }
      ]
    },
    {
      "cell_type": "markdown",
      "metadata": {
        "id": "Bw21LePF6i_f"
      },
      "source": [
        "> 표준화한 결과를 확인해 보면 평균은 0에 가까워 졌고 분산은 1에 가까워 진것을 볼 수 있다."
      ]
    },
    {
      "cell_type": "markdown",
      "metadata": {
        "id": "4JmaH1656wPl"
      },
      "source": [
        "##2. MinMaxScaler\n"
      ]
    },
    {
      "cell_type": "markdown",
      "metadata": {
        "id": "DgCsFPSJq1I6"
      },
      "source": [
        "> 데이터를 0 ~ 1사이의 값으로 변환한다."
      ]
    },
    {
      "cell_type": "code",
      "source": [
        "print(\"최소값 : \", df_iris.min())\n",
        "print(\"최대값 : \", df_iris.max())"
      ],
      "metadata": {
        "id": "pVYsbS4EQX8Z",
        "outputId": "a126fb2b-5e92-45ae-b1f8-c167e51d83c8",
        "colab": {
          "base_uri": "https://localhost:8080/"
        }
      },
      "execution_count": 4,
      "outputs": [
        {
          "output_type": "stream",
          "name": "stdout",
          "text": [
            "최소값 :  sepal length (cm)    4.3\n",
            "sepal width (cm)     2.0\n",
            "petal length (cm)    1.0\n",
            "petal width (cm)     0.1\n",
            "dtype: float64\n",
            "최대값 :  sepal length (cm)    7.9\n",
            "sepal width (cm)     4.4\n",
            "petal length (cm)    6.9\n",
            "petal width (cm)     2.5\n",
            "dtype: float64\n"
          ]
        }
      ]
    },
    {
      "cell_type": "code",
      "source": [
        "from sklearn.preprocessing import MinMaxScaler\n",
        "\n",
        "scaler = MinMaxScaler()\n",
        "scaler.fit(df_iris)\n",
        "iris_scaled = scaler.transform(df_iris)"
      ],
      "metadata": {
        "id": "HwXLiaf5QhEL"
      },
      "execution_count": 5,
      "outputs": []
    },
    {
      "cell_type": "code",
      "source": [
        "df_iris_scaled = pd.DataFrame(data=iris_scaled, columns=iris.feature_names)\n",
        "\n",
        "print(\"최소값 : \", df_iris.min())\n",
        "print(\"최대값 : \", df_iris.max())"
      ],
      "metadata": {
        "id": "RAoGC1LTRAVF",
        "outputId": "56fd6daa-ed90-457b-8a44-b406e361b332",
        "colab": {
          "base_uri": "https://localhost:8080/"
        }
      },
      "execution_count": 6,
      "outputs": [
        {
          "output_type": "stream",
          "name": "stdout",
          "text": [
            "최소값 :  sepal length (cm)    4.3\n",
            "sepal width (cm)     2.0\n",
            "petal length (cm)    1.0\n",
            "petal width (cm)     0.1\n",
            "dtype: float64\n",
            "최대값 :  sepal length (cm)    7.9\n",
            "sepal width (cm)     4.4\n",
            "petal length (cm)    6.9\n",
            "petal width (cm)     2.5\n",
            "dtype: float64\n"
          ]
        }
      ]
    },
    {
      "cell_type": "code",
      "source": [],
      "metadata": {
        "id": "sPWWxni3RPS_"
      },
      "execution_count": null,
      "outputs": []
    },
    {
      "cell_type": "markdown",
      "metadata": {
        "id": "Gdf08tCwq2yC"
      },
      "source": [
        "##2.1 붓꽃 데이터의 최대값, 최소값"
      ]
    },
    {
      "cell_type": "markdown",
      "metadata": {
        "id": "QsoLLNYP8Izf"
      },
      "source": [
        ">위와 같이 최소값과 최대값을 확인해 보면 각 데이터별로 범위가 다른 것을 알 수 있다. 이런 경우 각 데이터별로 비교연산을 하게 되면 수치가 달라 문제가 발생할 수 있다."
      ]
    },
    {
      "cell_type": "markdown",
      "metadata": {
        "id": "RtsZl8kwq-J1"
      },
      "source": [
        "##2.2 MinMaxScaler를 이용한 정규화"
      ]
    },
    {
      "cell_type": "markdown",
      "metadata": {
        "id": "NQsj0eNH8Zil"
      },
      "source": [
        ">위처럼 간단하게 0 ~ 1사이의 값으로 변환하여 범위를 통일 하면 더 정확한 모델을 만들 수 있다."
      ]
    },
    {
      "cell_type": "markdown",
      "metadata": {
        "id": "gd0BpKLG-WoS"
      },
      "source": [
        "##3. 학습 데이터와테스트 데이터의 스케일링 변환 시 유의점\n"
      ]
    },
    {
      "cell_type": "markdown",
      "metadata": {
        "id": "tIs-q3Ugraa5"
      },
      "source": [
        "> 스케일링 변환 시 fit과 transform 함수를 이용한다. \n",
        "* fit : 데이터 변환을 위한 기준 정보 설정\n",
        "* transform : 데이터 변환"
      ]
    },
    {
      "cell_type": "markdown",
      "metadata": {
        "id": "Jo92AcfardHh"
      },
      "source": [
        "##3.1 샘플 데이터 만들기"
      ]
    },
    {
      "cell_type": "code",
      "source": [
        "import numpy as np\n",
        "\n",
        "train_array = np.arange(0, 11).reshape(-1, 1)\n",
        "test_array = np.arange(0, 6).reshape(-1, 1)\n",
        "\n",
        "print(train_array)\n",
        "print(test_array)"
      ],
      "metadata": {
        "id": "x1Up4e7sR8sT",
        "outputId": "621a2853-256f-4e9b-acef-be2108d8c808",
        "colab": {
          "base_uri": "https://localhost:8080/"
        }
      },
      "execution_count": 8,
      "outputs": [
        {
          "output_type": "stream",
          "name": "stdout",
          "text": [
            "[[ 0]\n",
            " [ 1]\n",
            " [ 2]\n",
            " [ 3]\n",
            " [ 4]\n",
            " [ 5]\n",
            " [ 6]\n",
            " [ 7]\n",
            " [ 8]\n",
            " [ 9]\n",
            " [10]]\n",
            "[[0]\n",
            " [1]\n",
            " [2]\n",
            " [3]\n",
            " [4]\n",
            " [5]]\n"
          ]
        }
      ]
    },
    {
      "cell_type": "code",
      "source": [
        "from sklearn.preprocessing import MinMaxScaler\n",
        "\n",
        "scaler = MinMaxScaler()\n",
        "scaler.fit(train_array)\n",
        "train_scaled = scaler.transform(train_array)\n",
        "\n",
        "print(\"원본 :\", np.round(train_array.reshape(-1),2))\n",
        "print(\"scaled 된 데이터 : \", np.round(train_scaled.reshape(-1),2))"
      ],
      "metadata": {
        "id": "akprTEvpSa64",
        "outputId": "8bd3406c-48e6-4025-c535-07cad0b7aa5c",
        "colab": {
          "base_uri": "https://localhost:8080/"
        }
      },
      "execution_count": 10,
      "outputs": [
        {
          "output_type": "stream",
          "name": "stdout",
          "text": [
            "원본 : [ 0  1  2  3  4  5  6  7  8  9 10]\n",
            "scaled 된 데이터 :  [0.  0.1 0.2 0.3 0.4 0.5 0.6 0.7 0.8 0.9 1. ]\n"
          ]
        }
      ]
    },
    {
      "cell_type": "code",
      "source": [
        "scaler.fit(test_array)\n",
        "test_scaled = scaler.transform(test_array)\n",
        "\n",
        "print(\"원본 :\", np.round(test_array.reshape(-1),2))\n",
        "print(\"scaled 된 데이터 : \", np.round(test_scaled.reshape(-1),2))"
      ],
      "metadata": {
        "id": "-s0oPZbZTKw1",
        "outputId": "97decd1e-5a94-4754-9d8c-a2973b9c71d7",
        "colab": {
          "base_uri": "https://localhost:8080/"
        }
      },
      "execution_count": 12,
      "outputs": [
        {
          "output_type": "stream",
          "name": "stdout",
          "text": [
            "원본 : [0 1 2 3 4 5]\n",
            "scaled 된 데이터 :  [0.  0.2 0.4 0.6 0.8 1. ]\n"
          ]
        }
      ]
    },
    {
      "cell_type": "code",
      "source": [],
      "metadata": {
        "id": "YfH6rt2YSPn1"
      },
      "execution_count": null,
      "outputs": []
    },
    {
      "cell_type": "markdown",
      "metadata": {
        "id": "UquWQhinDmSE"
      },
      "source": [
        ">arange(시작값, 개수)로 train_array에 0부터 11개의 값을 만들고 reshape을 통해 1열짜리 2차원 배열을 만든다. 같은 방법으로 test_array0에 0부터 6개의 2차원 배열을 만든다. scaler 클래스의 fit과 transform 함수는 2차원 이상의 데이터만 가능하다."
      ]
    },
    {
      "cell_type": "markdown",
      "metadata": {
        "id": "u4JQvexx9ur4"
      },
      "source": [
        "##3.2 잘못된 스케일링"
      ]
    },
    {
      "cell_type": "markdown",
      "metadata": {
        "id": "rXl8dGD7H_g8"
      },
      "source": [
        ">MinMaxScaler는 수의 범위를 0 ~ 1로 표현한다. 훈련데이터는 0 ~ 10범위의 수를 표현한 것이고 테스트 데이터는 0 ~ 5를 표현한 것이다. 이렇게 표현하면 5라는 수의 의미가 훈련데이터에서는 중간값이 되지만 테스트 데이터에서는 최대값이 되어 테스트를 할 수 없게 된다. 따라서 fit은 훈련데이터에서만 진행해야 한다."
      ]
    },
    {
      "cell_type": "markdown",
      "metadata": {
        "id": "we_U-TRl-W2P"
      },
      "source": [
        "##3.3 정상 스케일링"
      ]
    },
    {
      "cell_type": "code",
      "source": [
        "scaler.fit(train_array)\n",
        "train_scaled = scaler.transform(train_array)\n",
        "print(\"원본 :\", np.round(test_array.reshape(-1),2))\n",
        "print(\"scaled 된 데이터 : \", np.round(test_scaled.reshape(-1),2))\n",
        "\n",
        "test_scaled = scaler.transform(test_array)\n",
        "print(\"원본 :\", np.round(test_array.reshape(-1),2))\n",
        "print(\"scaled 된 데이터 : \", np.round(test_scaled.reshape(-1),2))"
      ],
      "metadata": {
        "id": "qdZbrJDoUhGB",
        "outputId": "360cf39a-f3c8-4556-fee9-c0e58b6dafdb",
        "colab": {
          "base_uri": "https://localhost:8080/"
        }
      },
      "execution_count": 13,
      "outputs": [
        {
          "output_type": "stream",
          "name": "stdout",
          "text": [
            "원본 : [0 1 2 3 4 5]\n",
            "scaled 된 데이터 :  [0.  0.2 0.4 0.6 0.8 1. ]\n",
            "원본 : [0 1 2 3 4 5]\n",
            "scaled 된 데이터 :  [0.  0.1 0.2 0.3 0.4 0.5]\n"
          ]
        }
      ]
    },
    {
      "cell_type": "markdown",
      "metadata": {
        "id": "oQRzY4NbI0ve"
      },
      "source": [
        "> 위와 같이 한번만 진행하여 5의 의미가 똑같이 중간값으로 정상적인 수치가 된 것을 볼 수 있다.\n",
        "\n",
        "> 정확히 스케일링하기 위해서는 훈련데이터와 테스트 데이터를 나누기 전 모든 데이터가 있을 때 fit을 처리한 후 훈련데이터와 테스트 데이터를 transform 해야 한다."
      ]
    }
  ]
}